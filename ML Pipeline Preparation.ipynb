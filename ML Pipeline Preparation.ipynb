{
 "cells": [
  {
   "cell_type": "markdown",
   "metadata": {},
   "source": [
    "# ML Pipeline Preparation\n",
    "Follow the instructions below to help you create your ML pipeline.\n",
    "### 1. Import libraries and load data from database.\n",
    "- Import Python libraries\n",
    "- Load dataset from database with [`read_sql_table`](https://pandas.pydata.org/pandas-docs/stable/generated/pandas.read_sql_table.html)\n",
    "- Define feature and target variables X and Y"
   ]
  },
  {
   "cell_type": "code",
   "execution_count": 1,
   "metadata": {},
   "outputs": [
    {
     "name": "stdout",
     "output_type": "stream",
     "text": [
      "[nltk_data] Downloading package punkt to /root/nltk_data...\n",
      "[nltk_data]   Unzipping tokenizers/punkt.zip.\n",
      "[nltk_data] Downloading package wordnet to /root/nltk_data...\n",
      "[nltk_data] Downloading package averaged_perceptron_tagger to\n",
      "[nltk_data]     /root/nltk_data...\n",
      "[nltk_data]   Unzipping taggers/averaged_perceptron_tagger.zip.\n",
      "[nltk_data] Downloading package stopwords to /root/nltk_data...\n",
      "[nltk_data]   Unzipping corpora/stopwords.zip.\n"
     ]
    }
   ],
   "source": [
    "# import libraries\n",
    "\n",
    "import pandas as pd\n",
    "from sqlalchemy import create_engine\n",
    "from nltk.tokenize import word_tokenize\n",
    "import re\n",
    "import nltk\n",
    "nltk.download(['punkt', 'wordnet', 'averaged_perceptron_tagger'])\n",
    "from nltk.stem import WordNetLemmatizer\n",
    "from nltk.corpus import stopwords\n",
    "nltk.download('stopwords')\n",
    "from sklearn.pipeline import Pipeline, FeatureUnion\n",
    "from nltk.stem import PorterStemmer\n"
   ]
  },
  {
   "cell_type": "code",
   "execution_count": 14,
   "metadata": {},
   "outputs": [],
   "source": [
    "# load data from database\n",
    "\n",
    "engine = create_engine('sqlite:///ETL_Pipeline.db')\n",
    "df = pd.read_sql_table('message', engine)\n",
    "X = df.message\n",
    "y = df.iloc[:,4:]"
   ]
  },
  {
   "cell_type": "code",
   "execution_count": 15,
   "metadata": {},
   "outputs": [
    {
     "data": {
      "text/plain": [
       "(26215, 36)"
      ]
     },
     "execution_count": 15,
     "metadata": {},
     "output_type": "execute_result"
    }
   ],
   "source": [
    "y.shape"
   ]
  },
  {
   "cell_type": "code",
   "execution_count": 3,
   "metadata": {},
   "outputs": [
    {
     "name": "stdout",
     "output_type": "stream",
     "text": [
      "Those people who live at Sibert need food they are hungry.\n",
      "related                   1\n",
      "request                   1\n",
      "offer                     0\n",
      "aid_related               1\n",
      "medical_help              0\n",
      "medical_products          0\n",
      "search_and_rescue         0\n",
      "security                  0\n",
      "military                  0\n",
      "child_alone               0\n",
      "water                     0\n",
      "food                      1\n",
      "shelter                   0\n",
      "clothing                  0\n",
      "money                     0\n",
      "missing_people            0\n",
      "refugees                  0\n",
      "death                     0\n",
      "other_aid                 0\n",
      "infrastructure_related    0\n",
      "transport                 0\n",
      "buildings                 0\n",
      "electricity               0\n",
      "tools                     0\n",
      "hospitals                 0\n",
      "shops                     0\n",
      "aid_centers               0\n",
      "other_infrastructure      0\n",
      "weather_related           0\n",
      "floods                    0\n",
      "storm                     0\n",
      "fire                      0\n",
      "earthquake                0\n",
      "cold                      0\n",
      "Name: 23, dtype: int64\n"
     ]
    }
   ],
   "source": [
    "print(X[23])\n",
    "print(y.iloc[23])"
   ]
  },
  {
   "cell_type": "markdown",
   "metadata": {},
   "source": [
    "### 2. Write a tokenization function to process your text data"
   ]
  },
  {
   "cell_type": "code",
   "execution_count": 16,
   "metadata": {},
   "outputs": [],
   "source": [
    "def tokenize(text):\n",
    "\n",
    "    tokens = word_tokenize(text)\n",
    "#     lemmatizer = WordNetLemmatizer()\n",
    "    stop_words = set(stopwords.words(\"english\"))\n",
    "    ps = PorterStemmer()\n",
    "\n",
    "    clean_tokens = []\n",
    "    for tok in tokens:\n",
    "        clean_tok = ps.stem(tok).lower().strip()\n",
    "        if clean_tok.isalpha() and clean_tok not in stop_words:\n",
    "            clean_tokens.append(clean_tok)\n",
    "\n",
    "    return clean_tokens"
   ]
  },
  {
   "cell_type": "code",
   "execution_count": 23,
   "metadata": {},
   "outputs": [
    {
     "name": "stdout",
     "output_type": "stream",
     "text": [
      "Weather update - a cold front from Cuba that could pass over Haiti\n",
      "['weather', 'updat', 'cold', 'front', 'cuba', 'could', 'pass', 'haiti']\n",
      "----------------------------------------\n",
      "Is the Hurricane over or is it not over\n",
      "['hurrican']\n",
      "----------------------------------------\n",
      "Looking for someone but no name\n",
      "['look', 'someon', 'name']\n",
      "----------------------------------------\n",
      "UN reports Leogane 80-90 destroyed. Only Hospital St. Croix functioning. Needs supplies desperately.\n",
      "['un', 'report', 'leogan', 'destroy', 'onli', 'hospit', 'croix', 'function', 'need', 'suppli', 'desper']\n",
      "----------------------------------------\n",
      "says: west side of Haiti, rest of the country today and tonight\n",
      "['say', 'west', 'side', 'haiti', 'rest', 'countri', 'today', 'tonight']\n",
      "----------------------------------------\n"
     ]
    }
   ],
   "source": [
    "# Test the function \n",
    "\n",
    "for i in range(5):\n",
    "    print(X[i])\n",
    "    print(tokenize(X[i]))\n",
    "    print(\"----------------------------------------\")\n",
    "    \n",
    "    "
   ]
  },
  {
   "cell_type": "markdown",
   "metadata": {},
   "source": [
    "### 3. Build a machine learning pipeline\n",
    "This machine pipeline should take in the `message` column as input and output classification results on the other 36 categories in the dataset. You may find the [MultiOutputClassifier](http://scikit-learn.org/stable/modules/generated/sklearn.multioutput.MultiOutputClassifier.html) helpful for predicting multiple target variables."
   ]
  },
  {
   "cell_type": "code",
   "execution_count": 24,
   "metadata": {},
   "outputs": [],
   "source": [
    "from sklearn.pipeline import Pipeline\n",
    "from sklearn.ensemble import RandomForestClassifier\n",
    "from sklearn.feature_extraction.text import CountVectorizer, TfidfTransformer\n",
    "from sklearn.multioutput import MultiOutputClassifier\n",
    "\n",
    "\n",
    "pipeline = Pipeline([\n",
    "    \n",
    "    (\"vect\" , CountVectorizer(tokenizer=tokenize)),\n",
    "    (\"tfidf\" , TfidfTransformer()),\n",
    "    (\"clf\" , MultiOutputClassifier(RandomForestClassifier()))\n",
    "\n",
    "])"
   ]
  },
  {
   "cell_type": "markdown",
   "metadata": {},
   "source": [
    "### 4. Train pipeline\n",
    "- Split data into train and test sets\n",
    "- Train pipeline"
   ]
  },
  {
   "cell_type": "code",
   "execution_count": 25,
   "metadata": {},
   "outputs": [
    {
     "data": {
      "text/plain": [
       "Pipeline(memory=None,\n",
       "     steps=[('vect', CountVectorizer(analyzer='word', binary=False, decode_error='strict',\n",
       "        dtype=<class 'numpy.int64'>, encoding='utf-8', input='content',\n",
       "        lowercase=True, max_df=1.0, max_features=None, min_df=1,\n",
       "        ngram_range=(1, 1), preprocessor=None, stop_words=None,\n",
       "        strip...oob_score=False, random_state=None, verbose=0,\n",
       "            warm_start=False),\n",
       "           n_jobs=1))])"
      ]
     },
     "execution_count": 25,
     "metadata": {},
     "output_type": "execute_result"
    }
   ],
   "source": [
    "from sklearn.model_selection import train_test_split\n",
    "\n",
    "X_train, X_test, y_train, y_test = train_test_split(X, y , test_size=.15)\n",
    "\n",
    "pipeline.fit(X_train, y_train)"
   ]
  },
  {
   "cell_type": "markdown",
   "metadata": {},
   "source": [
    "### 5. Test your model\n",
    "Report the f1 score, precision and recall for each output category of the dataset. You can do this by iterating through the columns and calling sklearn's `classification_report` on each."
   ]
  },
  {
   "cell_type": "code",
   "execution_count": 26,
   "metadata": {},
   "outputs": [],
   "source": [
    "y_pred = pipeline.predict(X_test)"
   ]
  },
  {
   "cell_type": "code",
   "execution_count": 29,
   "metadata": {},
   "outputs": [
    {
     "name": "stdout",
     "output_type": "stream",
     "text": [
      " for related:\n",
      "             precision    recall  f1-score   support\n",
      "\n",
      "          0       0.64      0.47      0.55       931\n",
      "          1       0.85      0.92      0.88      3002\n",
      "\n",
      "avg / total       0.80      0.81      0.80      3933\n",
      "\n",
      " for request:\n",
      "             precision    recall  f1-score   support\n",
      "\n",
      "          0       0.89      0.98      0.93      3265\n",
      "          1       0.79      0.40      0.53       668\n",
      "\n",
      "avg / total       0.87      0.88      0.86      3933\n",
      "\n",
      " for offer:\n",
      "             precision    recall  f1-score   support\n",
      "\n",
      "          0       1.00      1.00      1.00      3915\n",
      "          1       0.00      0.00      0.00        18\n",
      "\n",
      "avg / total       0.99      1.00      0.99      3933\n",
      "\n",
      " for aid_related:\n",
      "             precision    recall  f1-score   support\n",
      "\n",
      "          0       0.74      0.86      0.80      2312\n",
      "          1       0.74      0.58      0.65      1621\n",
      "\n",
      "avg / total       0.74      0.74      0.74      3933\n",
      "\n",
      " for medical_help:\n",
      "             precision    recall  f1-score   support\n",
      "\n",
      "          0       0.92      1.00      0.96      3609\n",
      "          1       0.60      0.08      0.15       324\n",
      "\n",
      "avg / total       0.90      0.92      0.89      3933\n",
      "\n",
      " for medical_products:\n",
      "             precision    recall  f1-score   support\n",
      "\n",
      "          0       0.95      1.00      0.97      3719\n",
      "          1       0.72      0.10      0.17       214\n",
      "\n",
      "avg / total       0.94      0.95      0.93      3933\n",
      "\n",
      " for search_and_rescue:\n",
      "             precision    recall  f1-score   support\n",
      "\n",
      "          0       0.97      1.00      0.99      3822\n",
      "          1       0.48      0.11      0.18       111\n",
      "\n",
      "avg / total       0.96      0.97      0.96      3933\n",
      "\n",
      " for security:\n",
      "             precision    recall  f1-score   support\n",
      "\n",
      "          0       0.98      1.00      0.99      3864\n",
      "          1       0.25      0.01      0.03        69\n",
      "\n",
      "avg / total       0.97      0.98      0.97      3933\n",
      "\n",
      " for military:\n",
      "             precision    recall  f1-score   support\n",
      "\n",
      "          0       0.97      1.00      0.98      3805\n",
      "          1       0.50      0.07      0.12       128\n",
      "\n",
      "avg / total       0.95      0.97      0.96      3933\n",
      "\n",
      " for child_alone:\n",
      "             precision    recall  f1-score   support\n",
      "\n",
      "          0       1.00      1.00      1.00      3933\n",
      "\n",
      "avg / total       1.00      1.00      1.00      3933\n",
      "\n",
      " for water:\n",
      "             precision    recall  f1-score   support\n",
      "\n",
      "          0       0.95      1.00      0.97      3663\n",
      "          1       0.85      0.29      0.44       270\n",
      "\n",
      "avg / total       0.94      0.95      0.94      3933\n",
      "\n",
      " for food:\n",
      "             precision    recall  f1-score   support\n",
      "\n",
      "          0       0.93      0.99      0.96      3530\n",
      "          1       0.82      0.39      0.53       403\n",
      "\n",
      "avg / total       0.92      0.93      0.92      3933\n",
      "\n",
      " for shelter:\n",
      "             precision    recall  f1-score   support\n",
      "\n",
      "          0       0.94      0.99      0.96      3585\n",
      "          1       0.81      0.30      0.44       348\n",
      "\n",
      "avg / total       0.93      0.93      0.92      3933\n",
      "\n",
      " for clothing:\n",
      "             precision    recall  f1-score   support\n",
      "\n",
      "          0       0.99      1.00      0.99      3883\n",
      "          1       0.69      0.22      0.33        50\n",
      "\n",
      "avg / total       0.99      0.99      0.99      3933\n",
      "\n",
      " for money:\n",
      "             precision    recall  f1-score   support\n",
      "\n",
      "          0       0.98      1.00      0.99      3847\n",
      "          1       0.40      0.02      0.04        86\n",
      "\n",
      "avg / total       0.97      0.98      0.97      3933\n",
      "\n",
      " for missing_people:\n",
      "             precision    recall  f1-score   support\n",
      "\n",
      "          0       0.99      1.00      0.99      3888\n",
      "          1       0.00      0.00      0.00        45\n",
      "\n",
      "avg / total       0.98      0.99      0.98      3933\n",
      "\n",
      " for refugees:\n",
      "             precision    recall  f1-score   support\n",
      "\n",
      "          0       0.97      1.00      0.98      3808\n",
      "          1       0.30      0.02      0.04       125\n",
      "\n",
      "avg / total       0.95      0.97      0.95      3933\n",
      "\n",
      " for death:\n",
      "             precision    recall  f1-score   support\n",
      "\n",
      "          0       0.96      1.00      0.98      3754\n",
      "          1       0.80      0.18      0.30       179\n",
      "\n",
      "avg / total       0.96      0.96      0.95      3933\n",
      "\n",
      " for other_aid:\n",
      "             precision    recall  f1-score   support\n",
      "\n",
      "          0       0.87      0.99      0.93      3399\n",
      "          1       0.42      0.04      0.07       534\n",
      "\n",
      "avg / total       0.81      0.86      0.81      3933\n",
      "\n",
      " for infrastructure_related:\n",
      "             precision    recall  f1-score   support\n",
      "\n",
      "          0       0.93      1.00      0.96      3672\n",
      "          1       0.14      0.00      0.01       261\n",
      "\n",
      "avg / total       0.88      0.93      0.90      3933\n",
      "\n",
      " for transport:\n",
      "             precision    recall  f1-score   support\n",
      "\n",
      "          0       0.96      1.00      0.98      3743\n",
      "          1       0.75      0.08      0.14       190\n",
      "\n",
      "avg / total       0.95      0.95      0.94      3933\n",
      "\n",
      " for buildings:\n",
      "             precision    recall  f1-score   support\n",
      "\n",
      "          0       0.95      1.00      0.97      3721\n",
      "          1       0.69      0.15      0.24       212\n",
      "\n",
      "avg / total       0.94      0.95      0.93      3933\n",
      "\n",
      " for electricity:\n",
      "             precision    recall  f1-score   support\n",
      "\n",
      "          0       0.98      1.00      0.99      3845\n",
      "          1       0.00      0.00      0.00        88\n",
      "\n",
      "avg / total       0.96      0.98      0.97      3933\n",
      "\n",
      " for tools:\n",
      "             precision    recall  f1-score   support\n",
      "\n",
      "          0       0.99      1.00      1.00      3912\n",
      "          1       0.00      0.00      0.00        21\n",
      "\n",
      "avg / total       0.99      0.99      0.99      3933\n",
      "\n",
      " for hospitals:\n",
      "             precision    recall  f1-score   support\n",
      "\n",
      "          0       0.99      1.00      0.99      3893\n",
      "          1       0.00      0.00      0.00        40\n",
      "\n",
      "avg / total       0.98      0.99      0.98      3933\n",
      "\n",
      " for shops:\n",
      "             precision    recall  f1-score   support\n",
      "\n",
      "          0       0.99      1.00      1.00      3911\n",
      "          1       0.00      0.00      0.00        22\n",
      "\n",
      "avg / total       0.99      0.99      0.99      3933\n",
      "\n",
      " for aid_centers:\n",
      "             precision    recall  f1-score   support\n",
      "\n",
      "          0       0.99      1.00      0.99      3884\n",
      "          1       0.00      0.00      0.00        49\n",
      "\n",
      "avg / total       0.98      0.99      0.98      3933\n",
      "\n",
      " for other_infrastructure:\n",
      "             precision    recall  f1-score   support\n",
      "\n",
      "          0       0.96      1.00      0.98      3762\n",
      "          1       0.17      0.01      0.01       171\n",
      "\n",
      "avg / total       0.92      0.96      0.94      3933\n",
      "\n",
      " for weather_related:\n",
      "             precision    recall  f1-score   support\n",
      "\n",
      "          0       0.85      0.94      0.89      2835\n",
      "          1       0.80      0.57      0.66      1098\n",
      "\n",
      "avg / total       0.84      0.84      0.83      3933\n",
      "\n",
      " for floods:\n",
      "             precision    recall  f1-score   support\n",
      "\n",
      "          0       0.94      1.00      0.97      3602\n",
      "          1       0.88      0.31      0.46       331\n",
      "\n",
      "avg / total       0.94      0.94      0.93      3933\n",
      "\n",
      " for storm:\n",
      "             precision    recall  f1-score   support\n",
      "\n",
      "          0       0.95      0.99      0.97      3601\n",
      "          1       0.72      0.39      0.51       332\n",
      "\n",
      "avg / total       0.93      0.94      0.93      3933\n",
      "\n",
      " for fire:\n",
      "             precision    recall  f1-score   support\n",
      "\n",
      "          0       0.99      1.00      0.99      3875\n",
      "          1       0.00      0.00      0.00        58\n",
      "\n",
      "avg / total       0.97      0.98      0.98      3933\n",
      "\n",
      " for earthquake:\n",
      "             precision    recall  f1-score   support\n",
      "\n",
      "          0       0.97      0.99      0.98      3592\n",
      "          1       0.85      0.67      0.75       341\n",
      "\n",
      "avg / total       0.96      0.96      0.96      3933\n",
      "\n",
      " for cold:\n",
      "             precision    recall  f1-score   support\n",
      "\n",
      "          0       0.98      1.00      0.99      3838\n",
      "          1       0.83      0.16      0.27        95\n",
      "\n",
      "avg / total       0.98      0.98      0.97      3933\n",
      "\n",
      " for other_weather:\n",
      "             precision    recall  f1-score   support\n",
      "\n",
      "          0       0.94      1.00      0.97      3705\n",
      "          1       0.48      0.04      0.08       228\n",
      "\n",
      "avg / total       0.92      0.94      0.92      3933\n",
      "\n",
      " for direct_report:\n",
      "             precision    recall  f1-score   support\n",
      "\n",
      "          0       0.85      0.97      0.91      3179\n",
      "          1       0.68      0.30      0.41       754\n",
      "\n",
      "avg / total       0.82      0.84      0.81      3933\n",
      "\n"
     ]
    },
    {
     "name": "stderr",
     "output_type": "stream",
     "text": [
      "/opt/conda/lib/python3.6/site-packages/sklearn/metrics/classification.py:1135: UndefinedMetricWarning: Precision and F-score are ill-defined and being set to 0.0 in labels with no predicted samples.\n",
      "  'precision', 'predicted', average, warn_for)\n"
     ]
    }
   ],
   "source": [
    "from sklearn.metrics import classification_report\n",
    "\n",
    "\n",
    "for i in range(36):\n",
    "    print(\" for {}:\".format(y_test.columns[i]))\n",
    "    print(classification_report(y_test.iloc[:,i], y_pred[:,i]))\n",
    "    \n",
    "    "
   ]
  },
  {
   "cell_type": "markdown",
   "metadata": {},
   "source": [
    "### 6. Improve your model\n",
    "Use grid search to find better parameters. "
   ]
  },
  {
   "cell_type": "code",
   "execution_count": 30,
   "metadata": {},
   "outputs": [],
   "source": [
    "# from sklearn.model_selection import GridSearchCV\n",
    "from sklearn.model_selection import RandomizedSearchCV\n",
    "\n",
    "# It tooks ages to execute the random cv..\n",
    "\n",
    "parameters = {\n",
    "    'clf__estimator__n_estimators': [50, 100,200],\n",
    "    'clf__estimator__min_samples_split': [2, 3,4]\n",
    "}\n",
    "\n",
    "cv = RandomizedSearchCV(pipeline, param_distributions=parameters, n_iter=3)"
   ]
  },
  {
   "cell_type": "markdown",
   "metadata": {},
   "source": [
    "### 7. Test your model\n",
    "Show the accuracy, precision, and recall of the tuned model.  \n",
    "\n",
    "Since this project focuses on code quality, process, and  pipelines, there is no minimum performance metric needed to pass. However, make sure to fine tune your models for accuracy, precision and recall to make your project stand out - especially for your portfolio!"
   ]
  },
  {
   "cell_type": "code",
   "execution_count": null,
   "metadata": {},
   "outputs": [],
   "source": [
    "cv.fit(X_train, y_train)"
   ]
  },
  {
   "cell_type": "code",
   "execution_count": null,
   "metadata": {},
   "outputs": [],
   "source": []
  },
  {
   "cell_type": "markdown",
   "metadata": {},
   "source": [
    "### 8. Try improving your model further. Here are a few ideas:\n",
    "* try other machine learning algorithms\n",
    "* add other features besides the TF-IDF"
   ]
  },
  {
   "cell_type": "code",
   "execution_count": 12,
   "metadata": {},
   "outputs": [],
   "source": [
    "from sklearn.ensemble import AdaBoostClassifier\n",
    "\n",
    "pipeline_2 = Pipeline([\n",
    "    (\"vect\", CountVectorizer(tokenizer=tokenize)),\n",
    "    (\"tfidf\", TfidfTransformer()),\n",
    "    (\"clf\", MultiOutputClassifier(AdaBoostClassifier()))\n",
    "])\n"
   ]
  },
  {
   "cell_type": "code",
   "execution_count": null,
   "metadata": {},
   "outputs": [],
   "source": [
    "pipeline_2.fit(X_train, y_train)\n",
    "y_pred = pipeline_2.predict(X_test)"
   ]
  },
  {
   "cell_type": "code",
   "execution_count": null,
   "metadata": {},
   "outputs": [],
   "source": [
    "for i in range(34):\n",
    "    print(\" for {}:\".format(y_test.columns[i]))\n",
    "    print(classification_report(y_test.iloc[:,i], y_pred[:,i]))"
   ]
  },
  {
   "cell_type": "markdown",
   "metadata": {},
   "source": [
    "### 9. Export your model as a pickle file"
   ]
  },
  {
   "cell_type": "code",
   "execution_count": null,
   "metadata": {},
   "outputs": [],
   "source": [
    "import pickle\n",
    "filename = 'model.pkl'\n",
    "pickle.dump(pipeline, open(filename, 'wb'))"
   ]
  },
  {
   "cell_type": "markdown",
   "metadata": {},
   "source": [
    "### 10. Use this notebook to complete `train.py`\n",
    "Use the template file attached in the Resources folder to write a script that runs the steps above to create a database and export a model based on a new dataset specified by the user."
   ]
  },
  {
   "cell_type": "code",
   "execution_count": null,
   "metadata": {},
   "outputs": [],
   "source": []
  }
 ],
 "metadata": {
  "kernelspec": {
   "display_name": "Python 3",
   "language": "python",
   "name": "python3"
  },
  "language_info": {
   "codemirror_mode": {
    "name": "ipython",
    "version": 3
   },
   "file_extension": ".py",
   "mimetype": "text/x-python",
   "name": "python",
   "nbconvert_exporter": "python",
   "pygments_lexer": "ipython3",
   "version": "3.6.3"
  }
 },
 "nbformat": 4,
 "nbformat_minor": 2
}
